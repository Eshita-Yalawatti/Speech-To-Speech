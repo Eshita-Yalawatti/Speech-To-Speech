{
  "nbformat": 4,
  "nbformat_minor": 0,
  "metadata": {
    "colab": {
      "provenance": []
    },
    "kernelspec": {
      "name": "python3",
      "display_name": "Python 3"
    },
    "language_info": {
      "name": "python"
    }
  },
  "cells": [
    {
      "cell_type": "code",
      "execution_count": null,
      "metadata": {
        "id": "asMrHKv2Beut"
      },
      "outputs": [],
      "source": [
        "import torch\n",
        "import torch.nn.functional as F\n",
        "import matplotlib.pyplot as plt\n",
        "%matplotlib inline"
      ]
    },
    {
      "cell_type": "code",
      "source": [
        "names = open('Indian_Names_Cleaned.txt', 'r').read().splitlines()"
      ],
      "metadata": {
        "id": "ntVUIHhVB40Z"
      },
      "execution_count": null,
      "outputs": []
    },
    {
      "cell_type": "code",
      "source": [
        "chars = sorted(list(set(''.join(names))))\n",
        "stoi = { s:i+1 for i,s in enumerate(chars)}\n",
        "stoi['.'] = 0;\n",
        "itos = { i:s for s,i in stoi.items()}\n",
        "print(itos)"
      ],
      "metadata": {
        "colab": {
          "base_uri": "https://localhost:8080/"
        },
        "id": "LYiK4hmtCOGb",
        "outputId": "1ae6709f-06e0-4d3d-eaac-0d7fcac53177"
      },
      "execution_count": null,
      "outputs": [
        {
          "output_type": "stream",
          "name": "stdout",
          "text": [
            "{1: 'a', 2: 'b', 3: 'c', 4: 'd', 5: 'e', 6: 'f', 7: 'g', 8: 'h', 9: 'i', 10: 'j', 11: 'k', 12: 'l', 13: 'm', 14: 'n', 15: 'o', 16: 'p', 17: 'q', 18: 'r', 19: 's', 20: 't', 21: 'u', 22: 'v', 23: 'w', 24: 'x', 25: 'y', 26: 'z', 0: '.'}\n"
          ]
        }
      ]
    },
    {
      "cell_type": "code",
      "source": [
        "block_size = 3 # context length = how many letters needed to predict the next one\n",
        "X, Y = [], []\n",
        "\n",
        "for n in names:\n",
        "  # print(n)\n",
        "  context = [0] * block_size\n",
        "  # print(context)\n",
        "  for ch in n + '.':\n",
        "    ix = stoi[ch]\n",
        "    X.append(context)\n",
        "    Y.append(ix)\n",
        "    context = context[1:] + [ix]\n",
        "    # print(\"HIIIIIIIIIIIIIII\", ix)\n",
        "    # print(\"xxxxxx\", X)\n",
        "    # print(\"yyyyyy\", Y)\n",
        "\n",
        "X = torch.tensor(X)\n",
        "Y = torch.tensor(Y)"
      ],
      "metadata": {
        "collapsed": true,
        "id": "qpLo2xdfC6wD"
      },
      "execution_count": null,
      "outputs": []
    },
    {
      "cell_type": "code",
      "source": [
        "X.shape, X.dtype, Y.shape, Y.dtype"
      ],
      "metadata": {
        "colab": {
          "base_uri": "https://localhost:8080/"
        },
        "id": "kV502Tf-oXUj",
        "outputId": "bf7f6945-af31-4e59-d680-e2f959bc873e"
      },
      "execution_count": null,
      "outputs": [
        {
          "output_type": "execute_result",
          "data": {
            "text/plain": [
              "(torch.Size([33, 3]), torch.int64, torch.Size([33]), torch.int64)"
            ]
          },
          "metadata": {},
          "execution_count": 7
        }
      ]
    },
    {
      "cell_type": "code",
      "source": [
        "C = torch.randn((27, 2))"
      ],
      "metadata": {
        "collapsed": true,
        "id": "yO9ngc0no8y-"
      },
      "execution_count": null,
      "outputs": []
    },
    {
      "cell_type": "code",
      "source": [
        "C[X]"
      ],
      "metadata": {
        "colab": {
          "base_uri": "https://localhost:8080/"
        },
        "id": "cc7jhxtwrAd4",
        "outputId": "6c3b3306-120d-4c39-a87c-5e5254efd985",
        "collapsed": true
      },
      "execution_count": null,
      "outputs": [
        {
          "output_type": "execute_result",
          "data": {
            "text/plain": [
              "tensor([[[ 1.6722,  0.0652],\n",
              "         [ 1.6722,  0.0652],\n",
              "         [ 1.6722,  0.0652]],\n",
              "\n",
              "        [[ 1.6722,  0.0652],\n",
              "         [ 1.6722,  0.0652],\n",
              "         [ 0.8030, -0.0282]],\n",
              "\n",
              "        [[ 1.6722,  0.0652],\n",
              "         [ 0.8030, -0.0282],\n",
              "         [ 0.8030, -0.0282]],\n",
              "\n",
              "        [[ 0.8030, -0.0282],\n",
              "         [ 0.8030, -0.0282],\n",
              "         [ 0.3151,  0.3566]],\n",
              "\n",
              "        [[ 0.8030, -0.0282],\n",
              "         [ 0.3151,  0.3566],\n",
              "         [ 0.0308, -1.5833]],\n",
              "\n",
              "        [[ 0.3151,  0.3566],\n",
              "         [ 0.0308, -1.5833],\n",
              "         [-1.3997,  0.0090]],\n",
              "\n",
              "        [[ 1.6722,  0.0652],\n",
              "         [ 1.6722,  0.0652],\n",
              "         [ 1.6722,  0.0652]],\n",
              "\n",
              "        [[ 1.6722,  0.0652],\n",
              "         [ 1.6722,  0.0652],\n",
              "         [ 0.8030, -0.0282]],\n",
              "\n",
              "        [[ 1.6722,  0.0652],\n",
              "         [ 0.8030, -0.0282],\n",
              "         [ 0.8030, -0.0282]],\n",
              "\n",
              "        [[ 0.8030, -0.0282],\n",
              "         [ 0.8030, -0.0282],\n",
              "         [ 0.3151,  0.3566]],\n",
              "\n",
              "        [[ 0.8030, -0.0282],\n",
              "         [ 0.3151,  0.3566],\n",
              "         [ 0.0308, -1.5833]],\n",
              "\n",
              "        [[ 0.3151,  0.3566],\n",
              "         [ 0.0308, -1.5833],\n",
              "         [-1.3997,  0.0090]],\n",
              "\n",
              "        [[ 0.0308, -1.5833],\n",
              "         [-1.3997,  0.0090],\n",
              "         [ 0.8030, -0.0282]],\n",
              "\n",
              "        [[ 1.6722,  0.0652],\n",
              "         [ 1.6722,  0.0652],\n",
              "         [ 1.6722,  0.0652]],\n",
              "\n",
              "        [[ 1.6722,  0.0652],\n",
              "         [ 1.6722,  0.0652],\n",
              "         [ 0.8030, -0.0282]],\n",
              "\n",
              "        [[ 1.6722,  0.0652],\n",
              "         [ 0.8030, -0.0282],\n",
              "         [ 0.8030, -0.0282]],\n",
              "\n",
              "        [[ 0.8030, -0.0282],\n",
              "         [ 0.8030, -0.0282],\n",
              "         [-0.5334,  0.9265]],\n",
              "\n",
              "        [[ 0.8030, -0.0282],\n",
              "         [-0.5334,  0.9265],\n",
              "         [-2.3822, -0.3436]],\n",
              "\n",
              "        [[-0.5334,  0.9265],\n",
              "         [-2.3822, -0.3436],\n",
              "         [ 0.8030, -0.0282]],\n",
              "\n",
              "        [[-2.3822, -0.3436],\n",
              "         [ 0.8030, -0.0282],\n",
              "         [ 1.1048, -0.5402]],\n",
              "\n",
              "        [[ 1.6722,  0.0652],\n",
              "         [ 1.6722,  0.0652],\n",
              "         [ 1.6722,  0.0652]],\n",
              "\n",
              "        [[ 1.6722,  0.0652],\n",
              "         [ 1.6722,  0.0652],\n",
              "         [ 0.8030, -0.0282]],\n",
              "\n",
              "        [[ 1.6722,  0.0652],\n",
              "         [ 0.8030, -0.0282],\n",
              "         [ 0.8030, -0.0282]],\n",
              "\n",
              "        [[ 0.8030, -0.0282],\n",
              "         [ 0.8030, -0.0282],\n",
              "         [-1.3997,  0.0090]],\n",
              "\n",
              "        [[ 0.8030, -0.0282],\n",
              "         [-1.3997,  0.0090],\n",
              "         [ 0.1129, -0.7231]],\n",
              "\n",
              "        [[-1.3997,  0.0090],\n",
              "         [ 0.1129, -0.7231],\n",
              "         [ 1.5835, -0.0817]],\n",
              "\n",
              "        [[ 0.1129, -0.7231],\n",
              "         [ 1.5835, -0.0817],\n",
              "         [-2.3822, -0.3436]],\n",
              "\n",
              "        [[ 1.6722,  0.0652],\n",
              "         [ 1.6722,  0.0652],\n",
              "         [ 1.6722,  0.0652]],\n",
              "\n",
              "        [[ 1.6722,  0.0652],\n",
              "         [ 1.6722,  0.0652],\n",
              "         [ 0.8030, -0.0282]],\n",
              "\n",
              "        [[ 1.6722,  0.0652],\n",
              "         [ 0.8030, -0.0282],\n",
              "         [ 0.8030, -0.0282]],\n",
              "\n",
              "        [[ 0.8030, -0.0282],\n",
              "         [ 0.8030, -0.0282],\n",
              "         [-1.3997,  0.0090]],\n",
              "\n",
              "        [[ 0.8030, -0.0282],\n",
              "         [-1.3997,  0.0090],\n",
              "         [ 0.0308, -1.5833]],\n",
              "\n",
              "        [[-1.3997,  0.0090],\n",
              "         [ 0.0308, -1.5833],\n",
              "         [ 1.1048, -0.5402]]])"
            ]
          },
          "metadata": {},
          "execution_count": 9
        }
      ]
    },
    {
      "cell_type": "code",
      "source": [
        "emb = C[X]\n",
        "emb.shape"
      ],
      "metadata": {
        "colab": {
          "base_uri": "https://localhost:8080/"
        },
        "id": "opV-Ef5Kqfrg",
        "outputId": "08e05465-ecb4-49ec-ba00-fe23de9fbc96"
      },
      "execution_count": null,
      "outputs": [
        {
          "output_type": "execute_result",
          "data": {
            "text/plain": [
              "torch.Size([33, 3, 2])"
            ]
          },
          "metadata": {},
          "execution_count": 10
        }
      ]
    },
    {
      "cell_type": "code",
      "source": [
        "W1 = torch.randn((6, 100))\n",
        "B1 = torch.randn(100)\n",
        "# 100 is not a fixed number its a hyper parameter that can be tuned for accuracy\n",
        "# it defines the dimension of the model(neurons)"
      ],
      "metadata": {
        "id": "8vFmZ23hrpdD"
      },
      "execution_count": null,
      "outputs": []
    },
    {
      "cell_type": "code",
      "source": [
        "# activation function is: tanh(x) this introduces non-linearity\n",
        "h = torch.tanh(emb.view(-1, 6) @ W1 + B1)\n",
        "# (emb.view(-1, 6) @ W1 + B1)this gives the raw outputs of a neural network layer before applying an activation funtion which are called logits\n",
        "# to convert these logits into probabilities we use softax\n",
        "# these logits are used in loss functions\n",
        "# tanh maps values to (-1, 1)"
      ],
      "metadata": {
        "id": "L1fluWm_6PSw"
      },
      "execution_count": null,
      "outputs": []
    },
    {
      "cell_type": "code",
      "source": [
        "h"
      ],
      "metadata": {
        "colab": {
          "base_uri": "https://localhost:8080/"
        },
        "id": "qY173pnJ6ZJ0",
        "outputId": "ba35f8bc-8ca3-4685-fb9d-0c4f508256bf"
      },
      "execution_count": null,
      "outputs": [
        {
          "output_type": "execute_result",
          "data": {
            "text/plain": [
              "tensor([[ 0.7542,  0.9983,  0.9967,  ..., -0.6440, -0.8992,  0.9998],\n",
              "        [ 0.8377,  0.9983,  0.9926,  ..., -0.8850, -0.7739,  0.9989],\n",
              "        [ 0.7677,  0.9713,  0.9615,  ..., -0.7133, -0.9231,  0.9998],\n",
              "        ...,\n",
              "        [ 0.9195,  0.9167,  0.8843,  ..., -0.9602,  0.1754,  0.8319],\n",
              "        [-0.8224, -0.7949, -0.9162,  ...,  0.1296, -0.9992,  0.9994],\n",
              "        [-0.4072, -0.1414,  0.7264,  ...,  0.9664, -0.8372, -0.9628]])"
            ]
          },
          "metadata": {},
          "execution_count": 17
        }
      ]
    },
    {
      "cell_type": "code",
      "source": [
        "h.shape"
      ],
      "metadata": {
        "colab": {
          "base_uri": "https://localhost:8080/"
        },
        "id": "1397XixQATVo",
        "outputId": "b85154af-e689-4599-9346-95a362334c89"
      },
      "execution_count": null,
      "outputs": [
        {
          "output_type": "execute_result",
          "data": {
            "text/plain": [
              "torch.Size([33, 100])"
            ]
          },
          "metadata": {},
          "execution_count": 18
        }
      ]
    },
    {
      "cell_type": "code",
      "source": [
        "W2 = torch.randn([100, 27])\n",
        "B2 = torch.randn(27)"
      ],
      "metadata": {
        "id": "lNil0d7EA5FX"
      },
      "execution_count": null,
      "outputs": []
    },
    {
      "cell_type": "code",
      "source": [
        "logits = h @ W2 + B2"
      ],
      "metadata": {
        "id": "N72r3tMHBKUC"
      },
      "execution_count": null,
      "outputs": []
    },
    {
      "cell_type": "code",
      "source": [
        "logits.shape"
      ],
      "metadata": {
        "colab": {
          "base_uri": "https://localhost:8080/"
        },
        "id": "RmFE6KHBBPo-",
        "outputId": "016a7124-5361-44f4-a1e2-efc63c4b540a"
      },
      "execution_count": null,
      "outputs": [
        {
          "output_type": "execute_result",
          "data": {
            "text/plain": [
              "torch.Size([33, 27])"
            ]
          },
          "metadata": {},
          "execution_count": 21
        }
      ]
    },
    {
      "cell_type": "code",
      "source": [
        "logits"
      ],
      "metadata": {
        "collapsed": true,
        "colab": {
          "base_uri": "https://localhost:8080/"
        },
        "id": "eiOQtRChBTHu",
        "outputId": "3143fded-6aa1-4ee3-fab0-256326b418ce"
      },
      "execution_count": null,
      "outputs": [
        {
          "output_type": "execute_result",
          "data": {
            "text/plain": [
              "tensor([[ 2.1968e+00,  7.1301e-01, -5.4885e+00,  7.8124e+00,  1.0473e+01,\n",
              "         -7.2343e+00, -1.1775e+01, -2.7510e+00, -3.1728e+00, -1.1681e+01,\n",
              "         -1.1079e+01,  1.1673e+01,  1.4114e+00,  1.3003e+00, -9.7726e+00,\n",
              "         -1.4181e+01,  1.2270e+01,  7.7338e+00,  7.4340e+00, -3.5174e+00,\n",
              "         -6.3772e+00,  6.5945e+00,  5.8302e+00, -7.4267e-01, -7.8331e+00,\n",
              "          1.3334e+00, -4.4661e-01],\n",
              "        [-1.3162e+00, -1.3295e+00, -5.4533e+00,  5.8428e+00,  9.8262e+00,\n",
              "         -4.3788e+00, -5.0454e+00, -7.5235e+00, -3.1828e+00, -5.7895e+00,\n",
              "         -7.5384e+00,  1.2654e+01,  5.9349e+00, -7.5942e+00, -6.4174e+00,\n",
              "         -9.3636e+00,  1.5864e+01,  6.0636e+00,  8.1065e+00, -1.6984e+00,\n",
              "         -9.6122e+00,  5.1465e+00,  4.4910e+00, -2.8709e+00, -9.2476e+00,\n",
              "          4.0633e+00,  1.2844e+00],\n",
              "        [ 1.2164e+00, -7.8573e-01, -3.5057e+00,  5.0144e+00,  6.1671e+00,\n",
              "         -6.2899e-01, -7.2803e+00, -1.3583e+01,  7.6066e-01,  6.3593e-01,\n",
              "         -1.1340e+01,  1.4733e+01,  2.2052e+00, -5.3744e+00, -7.2720e+00,\n",
              "         -1.0756e+01,  1.5351e+01,  1.0260e+01,  1.1518e+01,  1.1498e+00,\n",
              "         -7.1002e+00,  1.7992e+00,  7.6997e+00, -9.2103e-02, -8.4038e+00,\n",
              "          2.2287e+00, -2.9328e-01],\n",
              "        [ 2.6073e+00, -6.0579e+00, -7.4073e+00, -2.8010e+00,  7.0962e+00,\n",
              "          2.8418e+00, -8.1714e+00, -9.2379e+00, -1.1301e+00, -7.8065e+00,\n",
              "         -5.4840e+00,  5.3227e+00,  1.8077e+00, -9.0250e+00, -4.1940e+00,\n",
              "         -5.0681e+00,  2.0957e+01,  5.4661e+00,  5.5575e+00, -7.4853e-01,\n",
              "         -8.1051e+00, -5.5634e+00,  8.6257e+00,  1.4605e+00, -6.3574e+00,\n",
              "          5.8659e+00, -8.8532e-02],\n",
              "        [-8.3372e+00, -5.5879e+00, -1.5709e+00,  2.3910e+00,  5.1750e+00,\n",
              "          3.8014e+00, -5.9581e+00, -9.9009e+00,  2.8215e+00,  9.1354e+00,\n",
              "         -2.5970e+00,  6.1937e+00,  1.3135e+01, -1.7892e+01,  2.2805e+00,\n",
              "         -9.6653e+00,  8.0080e+00, -2.5617e+00,  7.4395e+00,  9.3889e+00,\n",
              "         -4.3971e+00, -8.2170e+00,  3.5078e+00,  2.7373e+00, -1.0592e+01,\n",
              "          9.3996e+00,  1.4159e+00],\n",
              "        [ 1.1697e+00,  3.0104e+00, -1.5730e+01, -4.1398e+00, -1.4902e+01,\n",
              "          1.0918e+01,  1.6777e+01, -9.7827e+00,  1.0662e+01, -2.3302e+00,\n",
              "         -4.4674e+00, -6.0178e+00,  2.5007e+01, -1.9994e+01,  8.7297e+00,\n",
              "          7.4966e+00,  1.8016e+01,  1.2778e+01,  1.4806e+01,  8.6235e+00,\n",
              "         -4.2800e+00, -8.5606e+00, -3.4207e+00, -4.8756e-01,  5.5732e+00,\n",
              "          9.9637e+00, -2.0639e+00],\n",
              "        [ 2.1968e+00,  7.1301e-01, -5.4885e+00,  7.8124e+00,  1.0473e+01,\n",
              "         -7.2343e+00, -1.1775e+01, -2.7510e+00, -3.1728e+00, -1.1681e+01,\n",
              "         -1.1079e+01,  1.1673e+01,  1.4114e+00,  1.3003e+00, -9.7726e+00,\n",
              "         -1.4181e+01,  1.2270e+01,  7.7338e+00,  7.4340e+00, -3.5174e+00,\n",
              "         -6.3772e+00,  6.5945e+00,  5.8302e+00, -7.4267e-01, -7.8331e+00,\n",
              "          1.3334e+00, -4.4661e-01],\n",
              "        [-1.3162e+00, -1.3295e+00, -5.4533e+00,  5.8428e+00,  9.8262e+00,\n",
              "         -4.3788e+00, -5.0454e+00, -7.5235e+00, -3.1828e+00, -5.7895e+00,\n",
              "         -7.5384e+00,  1.2654e+01,  5.9349e+00, -7.5942e+00, -6.4174e+00,\n",
              "         -9.3636e+00,  1.5864e+01,  6.0636e+00,  8.1065e+00, -1.6984e+00,\n",
              "         -9.6122e+00,  5.1465e+00,  4.4910e+00, -2.8709e+00, -9.2476e+00,\n",
              "          4.0633e+00,  1.2844e+00],\n",
              "        [ 1.2164e+00, -7.8573e-01, -3.5057e+00,  5.0144e+00,  6.1671e+00,\n",
              "         -6.2899e-01, -7.2803e+00, -1.3583e+01,  7.6066e-01,  6.3593e-01,\n",
              "         -1.1340e+01,  1.4733e+01,  2.2052e+00, -5.3744e+00, -7.2720e+00,\n",
              "         -1.0756e+01,  1.5351e+01,  1.0260e+01,  1.1518e+01,  1.1498e+00,\n",
              "         -7.1002e+00,  1.7992e+00,  7.6997e+00, -9.2103e-02, -8.4038e+00,\n",
              "          2.2287e+00, -2.9328e-01],\n",
              "        [ 2.6073e+00, -6.0579e+00, -7.4073e+00, -2.8010e+00,  7.0962e+00,\n",
              "          2.8418e+00, -8.1714e+00, -9.2379e+00, -1.1301e+00, -7.8065e+00,\n",
              "         -5.4840e+00,  5.3227e+00,  1.8077e+00, -9.0250e+00, -4.1940e+00,\n",
              "         -5.0681e+00,  2.0957e+01,  5.4661e+00,  5.5575e+00, -7.4853e-01,\n",
              "         -8.1051e+00, -5.5634e+00,  8.6257e+00,  1.4605e+00, -6.3574e+00,\n",
              "          5.8659e+00, -8.8532e-02],\n",
              "        [-8.3372e+00, -5.5879e+00, -1.5709e+00,  2.3910e+00,  5.1750e+00,\n",
              "          3.8014e+00, -5.9581e+00, -9.9009e+00,  2.8215e+00,  9.1354e+00,\n",
              "         -2.5970e+00,  6.1937e+00,  1.3135e+01, -1.7892e+01,  2.2805e+00,\n",
              "         -9.6653e+00,  8.0080e+00, -2.5617e+00,  7.4395e+00,  9.3889e+00,\n",
              "         -4.3971e+00, -8.2170e+00,  3.5078e+00,  2.7373e+00, -1.0592e+01,\n",
              "          9.3996e+00,  1.4159e+00],\n",
              "        [ 1.1697e+00,  3.0104e+00, -1.5730e+01, -4.1398e+00, -1.4902e+01,\n",
              "          1.0918e+01,  1.6777e+01, -9.7827e+00,  1.0662e+01, -2.3302e+00,\n",
              "         -4.4674e+00, -6.0178e+00,  2.5007e+01, -1.9994e+01,  8.7297e+00,\n",
              "          7.4966e+00,  1.8016e+01,  1.2778e+01,  1.4806e+01,  8.6235e+00,\n",
              "         -4.2800e+00, -8.5606e+00, -3.4207e+00, -4.8756e-01,  5.5732e+00,\n",
              "          9.9637e+00, -2.0639e+00],\n",
              "        [ 3.3584e+00,  2.9663e+00, -1.4707e-02, -1.4950e+00,  1.7380e+00,\n",
              "          8.6848e+00,  9.3405e+00, -6.9064e+00,  6.8970e+00,  9.4229e+00,\n",
              "         -1.7119e+01, -4.4772e-01, -7.3487e+00,  2.9029e+00,  6.4065e+00,\n",
              "         -8.5505e+00, -2.0583e+00, -4.4003e+00, -3.3565e+00, -1.2063e+01,\n",
              "         -2.2847e+00, -1.9229e+00,  1.9528e+01,  7.9306e+00,  9.9144e+00,\n",
              "         -1.0694e+00, -5.5889e+00],\n",
              "        [ 2.1968e+00,  7.1301e-01, -5.4885e+00,  7.8124e+00,  1.0473e+01,\n",
              "         -7.2343e+00, -1.1775e+01, -2.7510e+00, -3.1728e+00, -1.1681e+01,\n",
              "         -1.1079e+01,  1.1673e+01,  1.4114e+00,  1.3003e+00, -9.7726e+00,\n",
              "         -1.4181e+01,  1.2270e+01,  7.7338e+00,  7.4340e+00, -3.5174e+00,\n",
              "         -6.3772e+00,  6.5945e+00,  5.8302e+00, -7.4267e-01, -7.8331e+00,\n",
              "          1.3334e+00, -4.4661e-01],\n",
              "        [-1.3162e+00, -1.3295e+00, -5.4533e+00,  5.8428e+00,  9.8262e+00,\n",
              "         -4.3788e+00, -5.0454e+00, -7.5235e+00, -3.1828e+00, -5.7895e+00,\n",
              "         -7.5384e+00,  1.2654e+01,  5.9349e+00, -7.5942e+00, -6.4174e+00,\n",
              "         -9.3636e+00,  1.5864e+01,  6.0636e+00,  8.1065e+00, -1.6984e+00,\n",
              "         -9.6122e+00,  5.1465e+00,  4.4910e+00, -2.8709e+00, -9.2476e+00,\n",
              "          4.0633e+00,  1.2844e+00],\n",
              "        [ 1.2164e+00, -7.8573e-01, -3.5057e+00,  5.0144e+00,  6.1671e+00,\n",
              "         -6.2899e-01, -7.2803e+00, -1.3583e+01,  7.6066e-01,  6.3593e-01,\n",
              "         -1.1340e+01,  1.4733e+01,  2.2052e+00, -5.3744e+00, -7.2720e+00,\n",
              "         -1.0756e+01,  1.5351e+01,  1.0260e+01,  1.1518e+01,  1.1498e+00,\n",
              "         -7.1002e+00,  1.7992e+00,  7.6997e+00, -9.2103e-02, -8.4038e+00,\n",
              "          2.2287e+00, -2.9328e-01],\n",
              "        [ 8.4319e-01, -9.0015e+00, -6.5478e+00, -2.7357e+00,  1.2686e-01,\n",
              "          1.2574e+01, -7.5497e-01, -7.5148e+00, -2.2314e+00, -7.3340e+00,\n",
              "         -1.3312e+00,  1.8313e+00,  7.2467e+00, -1.1829e+01, -5.9704e+00,\n",
              "          3.5814e+00,  2.4696e+01,  8.2926e+00, -4.0775e+00,  6.2322e+00,\n",
              "         -1.3089e+01, -8.6604e+00,  7.6426e+00, -5.6026e+00, -7.7695e+00,\n",
              "          8.2675e+00,  6.0940e-01],\n",
              "        [-2.5146e+00,  4.6468e-01,  2.5493e+00,  2.1633e+00, -5.0112e+00,\n",
              "          1.3516e+01,  1.8719e+01, -1.2730e+01,  1.7216e+01,  6.6060e+00,\n",
              "          1.6199e+00, -9.5609e+00,  7.8996e+00, -1.4235e+01,  2.2209e+00,\n",
              "         -2.3582e+00,  9.2279e+00,  9.6972e+00,  2.7771e+00,  1.3137e+01,\n",
              "         -9.6920e+00, -1.7506e+01,  1.0317e+00,  6.5675e-01, -5.6938e+00,\n",
              "          2.4891e+00,  3.6639e+00],\n",
              "        [ 5.1900e+00,  5.4375e+00,  1.4792e+00,  2.1045e+00, -1.1232e+00,\n",
              "          1.2251e+00, -1.9151e+00, -9.6255e+00,  1.8997e+01,  9.0563e+00,\n",
              "         -1.2257e+01,  5.9469e-01, -4.7324e+00,  5.8658e+00,  3.9307e+00,\n",
              "         -7.6918e+00, -1.2155e+01,  3.3241e+00, -1.6375e+00, -3.5431e+00,\n",
              "          2.7367e+00, -1.2438e+01,  3.2578e+00,  1.5646e+01,  7.4887e+00,\n",
              "         -1.5762e-02,  2.5267e+00],\n",
              "        [-4.9082e+00,  4.3935e+00, -5.4369e+00, -8.2378e+00,  2.3550e+00,\n",
              "         -4.5974e+00, -4.9153e+00,  2.6431e+00,  6.5899e-01, -9.0566e+00,\n",
              "          7.8438e-01, -1.0799e+01, -2.7974e+00, -1.9057e+00,  1.7721e+01,\n",
              "          6.9240e-01, -2.8233e+00, -1.8213e+01, -5.8596e+00, -4.7690e-01,\n",
              "         -8.5747e-02, -1.1542e+01,  2.2882e+00,  9.2683e+00,  1.9143e+01,\n",
              "         -2.7291e+00,  3.7888e+00],\n",
              "        [ 2.1968e+00,  7.1301e-01, -5.4885e+00,  7.8124e+00,  1.0473e+01,\n",
              "         -7.2343e+00, -1.1775e+01, -2.7510e+00, -3.1728e+00, -1.1681e+01,\n",
              "         -1.1079e+01,  1.1673e+01,  1.4114e+00,  1.3003e+00, -9.7726e+00,\n",
              "         -1.4181e+01,  1.2270e+01,  7.7338e+00,  7.4340e+00, -3.5174e+00,\n",
              "         -6.3772e+00,  6.5945e+00,  5.8302e+00, -7.4267e-01, -7.8331e+00,\n",
              "          1.3334e+00, -4.4661e-01],\n",
              "        [-1.3162e+00, -1.3295e+00, -5.4533e+00,  5.8428e+00,  9.8262e+00,\n",
              "         -4.3788e+00, -5.0454e+00, -7.5235e+00, -3.1828e+00, -5.7895e+00,\n",
              "         -7.5384e+00,  1.2654e+01,  5.9349e+00, -7.5942e+00, -6.4174e+00,\n",
              "         -9.3636e+00,  1.5864e+01,  6.0636e+00,  8.1065e+00, -1.6984e+00,\n",
              "         -9.6122e+00,  5.1465e+00,  4.4910e+00, -2.8709e+00, -9.2476e+00,\n",
              "          4.0633e+00,  1.2844e+00],\n",
              "        [ 1.2164e+00, -7.8573e-01, -3.5057e+00,  5.0144e+00,  6.1671e+00,\n",
              "         -6.2899e-01, -7.2803e+00, -1.3583e+01,  7.6066e-01,  6.3593e-01,\n",
              "         -1.1340e+01,  1.4733e+01,  2.2052e+00, -5.3744e+00, -7.2720e+00,\n",
              "         -1.0756e+01,  1.5351e+01,  1.0260e+01,  1.1518e+01,  1.1498e+00,\n",
              "         -7.1002e+00,  1.7992e+00,  7.6997e+00, -9.2103e-02, -8.4038e+00,\n",
              "          2.2287e+00, -2.9328e-01],\n",
              "        [-2.8625e+00, -1.9952e+00, -7.7634e+00, -7.9788e-01, -3.9795e+00,\n",
              "          8.4478e+00,  1.0062e+01, -1.3058e+01,  5.8187e+00,  5.0890e+00,\n",
              "          2.1260e+00, -5.9182e+00,  1.5335e+01, -1.9032e+01,  6.0320e-01,\n",
              "          4.6563e+00,  2.1316e+01,  1.0599e+01,  1.1661e+00,  1.3605e+01,\n",
              "         -7.5880e+00, -1.6650e+01,  2.8611e+00, -8.1634e+00, -1.2053e+01,\n",
              "          6.4052e+00,  1.6597e+00],\n",
              "        [ 5.9038e+00, -2.2022e+00, -3.3730e+00,  5.2268e+00, -3.3492e+00,\n",
              "          9.3313e+00,  4.5540e+00, -1.0535e+01,  1.8050e+01,  1.3958e+01,\n",
              "         -9.2891e+00,  4.0982e+00,  1.3846e+00, -3.0012e+00, -1.3088e+00,\n",
              "         -9.7934e+00, -7.4694e-01,  5.7464e+00,  2.9023e+00, -1.6866e-01,\n",
              "         -5.8380e+00, -1.0891e+01,  9.6402e+00,  9.8105e+00, -6.1215e-01,\n",
              "          2.0798e+00,  5.5238e+00],\n",
              "        [ 1.1994e+00,  5.4301e+00, -9.3403e+00, -4.0090e+00,  2.7785e+00,\n",
              "         -1.0532e+01, -1.1803e+01,  1.5997e+00, -3.1452e+00, -1.1413e+01,\n",
              "         -1.0735e+01, -3.7636e+00,  4.4215e+00,  3.0280e+00,  9.2051e+00,\n",
              "         -7.1455e-01, -5.1580e+00, -1.7930e+01,  7.4188e-01, -2.2846e+00,\n",
              "         -4.1753e-01, -5.7263e+00,  6.7375e+00,  1.1310e+01,  1.4238e+01,\n",
              "         -6.6082e+00,  3.8334e+00],\n",
              "        [-1.1230e+01, -4.7425e+00, -1.3710e+01, -5.5963e+00, -9.4852e+00,\n",
              "          8.2305e+00,  7.9009e+00, -8.1998e+00,  1.0330e-02,  3.4648e+00,\n",
              "          6.2950e+00, -1.1321e+01,  1.6224e+01, -1.2586e+01,  8.0571e+00,\n",
              "          6.9384e+00,  2.1834e+01,  8.7126e-01,  4.5563e+00,  1.0346e+01,\n",
              "         -8.5040e+00, -1.9448e+01,  5.8692e+00, -9.8040e+00, -6.2038e+00,\n",
              "          5.6379e+00,  1.1988e+00],\n",
              "        [ 2.1968e+00,  7.1301e-01, -5.4885e+00,  7.8124e+00,  1.0473e+01,\n",
              "         -7.2343e+00, -1.1775e+01, -2.7510e+00, -3.1728e+00, -1.1681e+01,\n",
              "         -1.1079e+01,  1.1673e+01,  1.4114e+00,  1.3003e+00, -9.7726e+00,\n",
              "         -1.4181e+01,  1.2270e+01,  7.7338e+00,  7.4340e+00, -3.5174e+00,\n",
              "         -6.3772e+00,  6.5945e+00,  5.8302e+00, -7.4267e-01, -7.8331e+00,\n",
              "          1.3334e+00, -4.4661e-01],\n",
              "        [-1.3162e+00, -1.3295e+00, -5.4533e+00,  5.8428e+00,  9.8262e+00,\n",
              "         -4.3788e+00, -5.0454e+00, -7.5235e+00, -3.1828e+00, -5.7895e+00,\n",
              "         -7.5384e+00,  1.2654e+01,  5.9349e+00, -7.5942e+00, -6.4174e+00,\n",
              "         -9.3636e+00,  1.5864e+01,  6.0636e+00,  8.1065e+00, -1.6984e+00,\n",
              "         -9.6122e+00,  5.1465e+00,  4.4910e+00, -2.8709e+00, -9.2476e+00,\n",
              "          4.0633e+00,  1.2844e+00],\n",
              "        [ 1.2164e+00, -7.8573e-01, -3.5057e+00,  5.0144e+00,  6.1671e+00,\n",
              "         -6.2899e-01, -7.2803e+00, -1.3583e+01,  7.6066e-01,  6.3593e-01,\n",
              "         -1.1340e+01,  1.4733e+01,  2.2052e+00, -5.3744e+00, -7.2720e+00,\n",
              "         -1.0756e+01,  1.5351e+01,  1.0260e+01,  1.1518e+01,  1.1498e+00,\n",
              "         -7.1002e+00,  1.7992e+00,  7.6997e+00, -9.2103e-02, -8.4038e+00,\n",
              "          2.2287e+00, -2.9328e-01],\n",
              "        [-2.8625e+00, -1.9952e+00, -7.7634e+00, -7.9788e-01, -3.9795e+00,\n",
              "          8.4478e+00,  1.0062e+01, -1.3058e+01,  5.8187e+00,  5.0890e+00,\n",
              "          2.1260e+00, -5.9182e+00,  1.5335e+01, -1.9032e+01,  6.0320e-01,\n",
              "          4.6563e+00,  2.1316e+01,  1.0599e+01,  1.1661e+00,  1.3605e+01,\n",
              "         -7.5880e+00, -1.6650e+01,  2.8611e+00, -8.1634e+00, -1.2053e+01,\n",
              "          6.4052e+00,  1.6597e+00],\n",
              "        [-7.1715e+00, -7.8935e-01,  2.0635e+00,  5.6830e+00, -1.4019e+00,\n",
              "          8.1694e+00,  8.0575e+00, -9.5337e+00,  1.3115e+01,  1.2846e+01,\n",
              "         -5.2543e+00,  8.1044e+00,  6.1602e+00, -6.5588e+00, -4.2414e-01,\n",
              "         -8.9254e+00, -6.8811e+00,  1.8006e+00,  6.0224e+00,  1.7271e+00,\n",
              "         -2.8555e+00, -1.1302e+01,  4.9886e-01,  9.7938e+00,  2.4231e-01,\n",
              "          4.2692e+00,  1.3707e+00],\n",
              "        [-5.3658e+00,  1.0933e+01, -1.0563e+01, -7.0147e+00,  2.2401e+00,\n",
              "         -7.9088e+00, -6.6605e+00,  3.9675e-01, -2.9241e+00, -6.7799e+00,\n",
              "         -9.0027e+00, -2.6731e+00,  1.0067e+01, -5.8255e+00,  1.4405e+01,\n",
              "          5.9231e-01, -5.3323e+00, -1.8569e+01,  4.0816e+00, -2.6185e-01,\n",
              "          1.4274e+00, -7.6694e+00,  7.2928e+00,  9.9664e+00,  1.4160e+01,\n",
              "         -7.8277e-01,  3.0864e+00]])"
            ]
          },
          "metadata": {},
          "execution_count": 22
        }
      ]
    },
    {
      "cell_type": "code",
      "source": [
        "counts = logits.exp()\n",
        "# normalizes: negative values to lesser than 1 and positive to greater than 1"
      ],
      "metadata": {
        "id": "pG6_qR-mBZUB"
      },
      "execution_count": null,
      "outputs": []
    },
    {
      "cell_type": "code",
      "source": [
        "probs = counts / counts.sum(1, keepdims=True)\n",
        "# sums along dimension 1 i.e. across each row\n",
        "# keepsdim = True: keeps the summed dimension same as the input dimension"
      ],
      "metadata": {
        "id": "1ss7X7EIBpAV"
      },
      "execution_count": null,
      "outputs": []
    },
    {
      "cell_type": "code",
      "source": [
        "Y"
      ],
      "metadata": {
        "colab": {
          "base_uri": "https://localhost:8080/"
        },
        "id": "cucW2GfXCPrD",
        "outputId": "db126456-3d31-4d71-8d47-38d0dbb46946"
      },
      "execution_count": null,
      "outputs": [
        {
          "output_type": "execute_result",
          "data": {
            "text/plain": [
              "tensor([ 1,  1,  2,  9,  4,  0,  1,  1,  2,  9,  4,  1,  0,  1,  1,  3,  8,  1,\n",
              "        12,  0,  1,  1,  4,  5, 19,  8,  0,  1,  1,  4,  9, 12,  0])"
            ]
          },
          "metadata": {},
          "execution_count": 31
        }
      ]
    },
    {
      "cell_type": "code",
      "source": [
        "torch.arange(33)"
      ],
      "metadata": {
        "colab": {
          "base_uri": "https://localhost:8080/"
        },
        "id": "KppRsB4qCBrq",
        "outputId": "fbdf63b4-961d-4a1d-bd0d-7efdd7d9d2dd"
      },
      "execution_count": null,
      "outputs": [
        {
          "output_type": "execute_result",
          "data": {
            "text/plain": [
              "tensor([ 0,  1,  2,  3,  4,  5,  6,  7,  8,  9, 10, 11, 12, 13, 14, 15, 16, 17,\n",
              "        18, 19, 20, 21, 22, 23, 24, 25, 26, 27, 28, 29, 30, 31, 32])"
            ]
          },
          "metadata": {},
          "execution_count": 32
        }
      ]
    },
    {
      "cell_type": "code",
      "source": [
        "loss = -probs[torch.arange(33), Y].log().mean()"
      ],
      "metadata": {
        "id": "URAE3yhmCUWP"
      },
      "execution_count": null,
      "outputs": []
    },
    {
      "cell_type": "code",
      "source": [
        "loss"
      ],
      "metadata": {
        "colab": {
          "base_uri": "https://localhost:8080/"
        },
        "id": "aUH7_KhYD1mW",
        "outputId": "2c376ce2-41b1-40e4-aed4-0b2f6783d6ed"
      },
      "execution_count": null,
      "outputs": [
        {
          "output_type": "execute_result",
          "data": {
            "text/plain": [
              "tensor(17.2800)"
            ]
          },
          "metadata": {},
          "execution_count": 36
        }
      ]
    },
    {
      "cell_type": "markdown",
      "source": [
        "Forward pass"
      ],
      "metadata": {
        "id": "sr-0V4SbEFhX"
      }
    },
    {
      "cell_type": "code",
      "source": [
        "import torch\n",
        "import matplotlib.pyplot as plt\n",
        "\n",
        "# Set random seed for reproducibility\n",
        "g = torch.Generator().manual_seed(2147483647)\n",
        "\n",
        "# Generate random 2D embeddings for 27 characters (a-z and '.')\n",
        "C = torch.randn((27, 2), generator=g)\n",
        "\n",
        "# Character list (a-z and '.')\n",
        "chars = list(\"abcdefghijklmnopqrstuvwxyz.\")\n",
        "\n",
        "# Extract x and y coordinates from embedding matrix\n",
        "x_coords = C[:, 0].tolist()\n",
        "y_coords = C[:, 1].tolist()\n",
        "\n",
        "# Plot embeddings\n",
        "plt.figure(figsize=(8, 6))\n",
        "plt.scatter(x_coords, y_coords, color=\"blue\")\n",
        "\n",
        "# Add character labels\n",
        "for i, char in enumerate(chars):\n",
        "    plt.text(x_coords[i], y_coords[i], char, fontsize=12, ha='right', color=\"red\")\n",
        "\n",
        "# Set title and axis labels\n",
        "plt.title(\"2D Character Embeddings Visualization\")\n",
        "plt.xlabel(\"Dimension 1\")\n",
        "plt.ylabel(\"Dimension 2\")\n",
        "plt.grid(True)\n",
        "plt.show()\n"
      ],
      "metadata": {
        "colab": {
          "base_uri": "https://localhost:8080/",
          "height": 529
        },
        "id": "uGM4zGmfEzeX",
        "outputId": "f528fb14-4b1e-41e2-dc31-e950c9e9a225"
      },
      "execution_count": null,
      "outputs": [
        {
          "output_type": "display_data",
          "data": {
            "text/plain": [
              "<Figure size 800x600 with 1 Axes>"
            ],
            "image/png": "[encoded data removed]"
          },
          "metadata": {}
        }
      ]
    },
    {
      "cell_type": "code",
      "source": [
        "g = torch.Generator().manual_seed(4)\n",
        "c = torch.randn((27, 2), generator=g)\n",
        "W1 = torch.randn([6, 100], generator=g)\n",
        "W2 = torch.randn((100, 27), generator=g)\n",
        "B2 = torch.randn(27, generator=g)\n",
        "parameters = [c, W1, B1, W2, B2]"
      ],
      "metadata": {
        "id": "t0Lf5_bnEHZM"
      },
      "execution_count": null,
      "outputs": []
    },
    {
      "cell_type": "code",
      "source": [
        "sum(p.nelement() for p in parameters) # number os parameters in total"
      ],
      "metadata": {
        "colab": {
          "base_uri": "https://localhost:8080/"
        },
        "id": "rdOvwJE6GVKF",
        "outputId": "b634c91d-5588-496d-b33e-559c3e6c7c27"
      },
      "execution_count": null,
      "outputs": [
        {
          "output_type": "execute_result",
          "data": {
            "text/plain": [
              "3481"
            ]
          },
          "metadata": {},
          "execution_count": 44
        }
      ]
    },
    {
      "cell_type": "code",
      "source": [
        "emb = c[X]\n",
        "h = torch.tanh(emb.view(-1, 6) @ W1 + B1) #(33, 100)\n",
        "logits = h @ W2 + B2 #(33, 27)\n",
        "# counts = logits.exp()\n",
        "# prob = counts / counts.sum(1, keepdims=True)\n",
        "# loss = - prob[torch.arange(33), Y].log().mean()\n",
        "# instead of all this we can directly convert logits into loss using cross entropy function\n",
        "loss = F.cross_entropy(logits, Y)\n",
        "# why this is prefered?\n",
        "# because less tensors are made hence memory is less used\n",
        "# very efficient for back propogation as they have fused kernels and simpler mathematical operations\n",
        "loss"
      ],
      "metadata": {
        "colab": {
          "base_uri": "https://localhost:8080/"
        },
        "id": "ArNwyGnfFoON",
        "outputId": "bbb7e6c9-c694-4331-dbb6-ae642b4b949c"
      },
      "execution_count": null,
      "outputs": [
        {
          "output_type": "execute_result",
          "data": {
            "text/plain": [
              "tensor(13.4594, grad_fn=<NllLossBackward0>)"
            ]
          },
          "metadata": {},
          "execution_count": 184
        }
      ]
    },
    {
      "cell_type": "markdown",
      "source": [
        "Backward Pass"
      ],
      "metadata": {
        "id": "hPKYzPeyH9xX"
      }
    },
    {
      "cell_type": "code",
      "source": [
        "for p in parameters:\n",
        "  p.requires_grad_(True)"
      ],
      "metadata": {
        "id": "Yo4l42udNkvv"
      },
      "execution_count": null,
      "outputs": []
    },
    {
      "cell_type": "code",
      "source": [
        "for p in parameters:\n",
        "  # print(p.requires_grad)\n",
        "  p.grad = None # setting gradients to zero\n",
        "  # p.requires_grad_(True).\n",
        "\n",
        "# for p in parameters:\n",
        "#     if p.grad is not None:  # Only reset if gradients exist\n",
        "#         p.grad.zero_()\n",
        "loss.backward()"
      ],
      "metadata": {
        "id": "OfPg51ChGx8O"
      },
      "execution_count": null,
      "outputs": []
    },
    {
      "cell_type": "markdown",
      "source": [
        "Update"
      ],
      "metadata": {
        "id": "VvnJP3dXINwZ"
      }
    },
    {
      "cell_type": "code",
      "source": [
        "# for p in parameters:\n",
        "#   p.data += -0.1 + p.grad\n",
        "# #the number added to p.grad is the learning rate\n",
        "\n",
        "learning_rate = 0.1\n",
        "for p in parameters:\n",
        "    if p.grad is not None:  # Prevent NoneType error\n",
        "        p.data -= learning_rate * p.grad"
      ],
      "metadata": {
        "id": "fPROZUFVIPaW"
      },
      "execution_count": null,
      "outputs": []
    },
    {
      "cell_type": "markdown",
      "source": [
        "Doubts"
      ],
      "metadata": {
        "id": "nYjML9guD59u"
      }
    },
    {
      "cell_type": "code",
      "source": [
        "probs.shape"
      ],
      "metadata": {
        "colab": {
          "base_uri": "https://localhost:8080/"
        },
        "id": "GXneJc1RBuhK",
        "outputId": "10e92721-0bc6-43f9-bfb9-fce2b39f9736"
      },
      "execution_count": null,
      "outputs": [
        {
          "output_type": "execute_result",
          "data": {
            "text/plain": [
              "torch.Size([33, 27])"
            ]
          },
          "metadata": {},
          "execution_count": 25
        }
      ]
    },
    {
      "cell_type": "code",
      "source": [
        "torch.cat([emb[:, 0, :], emb[:, 1, :], emb[:, 2, :]], 1).shape"
      ],
      "metadata": {
        "colab": {
          "base_uri": "https://localhost:8080/"
        },
        "id": "qSqvP_YKsP9j",
        "outputId": "a5c859e5-2126-4c0d-95c7-6696244d5b7e"
      },
      "execution_count": null,
      "outputs": [
        {
          "output_type": "execute_result",
          "data": {
            "text/plain": [
              "torch.Size([33, 6])"
            ]
          },
          "metadata": {},
          "execution_count": 34
        }
      ]
    },
    {
      "cell_type": "code",
      "source": [
        "torch.cat(torch.unbind(emb, 1), 1).shape"
      ],
      "metadata": {
        "colab": {
          "base_uri": "https://localhost:8080/"
        },
        "id": "F2QFPImessZ5",
        "outputId": "39170ad4-249b-493f-bd50-cc5d75685b49"
      },
      "execution_count": null,
      "outputs": [
        {
          "output_type": "execute_result",
          "data": {
            "text/plain": [
              "torch.Size([33, 6])"
            ]
          },
          "metadata": {},
          "execution_count": 37
        }
      ]
    },
    {
      "cell_type": "code",
      "source": [
        "a = torch.arange(18)\n",
        "a.view(3, 3, 2) # until and unless the multiplication of the numbers equal 18 it can be embedded anyways"
      ],
      "metadata": {
        "colab": {
          "base_uri": "https://localhost:8080/"
        },
        "id": "9JimRKCBtE-u",
        "outputId": "ddf70e78-d533-4f9d-d405-dc9f73db9d8b"
      },
      "execution_count": null,
      "outputs": [
        {
          "output_type": "execute_result",
          "data": {
            "text/plain": [
              "tensor([[[ 0,  1],\n",
              "         [ 2,  3],\n",
              "         [ 4,  5]],\n",
              "\n",
              "        [[ 6,  7],\n",
              "         [ 8,  9],\n",
              "         [10, 11]],\n",
              "\n",
              "        [[12, 13],\n",
              "         [14, 15],\n",
              "         [16, 17]]])"
            ]
          },
          "metadata": {},
          "execution_count": 40
        }
      ]
    },
    {
      "cell_type": "code",
      "source": [],
      "metadata": {
        "id": "l4AFFynXtapA"
      },
      "execution_count": null,
      "outputs": []
    }
  ]
}